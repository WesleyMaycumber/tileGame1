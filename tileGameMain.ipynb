{
 "cells": [
  {
   "cell_type": "code",
   "execution_count": 3,
   "metadata": {},
   "outputs": [
    {
     "name": "stdout",
     "output_type": "stream",
     "text": [
      "pygame 2.6.0 (SDL 2.28.4, Python 3.11.9)\n",
      "Hello from the pygame community. https://www.pygame.org/contribute.html\n"
     ]
    }
   ],
   "source": [
    "import pygame\n",
    "import random\n",
    "import sys"
   ]
  },
  {
   "cell_type": "code",
   "execution_count": 4,
   "metadata": {},
   "outputs": [],
   "source": [
    "screen_width = 1280\n",
    "screen_height = 720"
   ]
  },
  {
   "cell_type": "code",
   "execution_count": 5,
   "metadata": {},
   "outputs": [
    {
     "name": "stdout",
     "output_type": "stream",
     "text": [
      "32 32\n"
     ]
    }
   ],
   "source": [
    "#background\n",
    "\n",
    "filepath = 'C:/Users/wesle/OneDrive/Documents/Scripts - Python/Projects/tileGame1/Sprites/BG/'\n",
    "\n",
    "waterTile = 'waterCenter.PNG'\n",
    "dirtTile = 'dirtCenter.PNG'\n",
    "tile_width, tile_height = 32, 32\n",
    "\n",
    "\n",
    "tiles = [waterTile, dirtTile]\n",
    "\n",
    "#def drawbackground():\n",
    "print(tile_width, tile_height)    "
   ]
  },
  {
   "cell_type": "code",
   "execution_count": 6,
   "metadata": {},
   "outputs": [
    {
     "ename": "TypeError",
     "evalue": "argument 1 must be pygame.surface.Surface, not str",
     "output_type": "error",
     "traceback": [
      "\u001b[1;31m---------------------------------------------------------------------------\u001b[0m",
      "\u001b[1;31mTypeError\u001b[0m                                 Traceback (most recent call last)",
      "Cell \u001b[1;32mIn[6], line 29\u001b[0m\n\u001b[0;32m     27\u001b[0m     \u001b[38;5;28;01mfor\u001b[39;00m y \u001b[38;5;129;01min\u001b[39;00m \u001b[38;5;28mrange\u001b[39m(\u001b[38;5;241m0\u001b[39m, screen_height):\n\u001b[0;32m     28\u001b[0m         tile_image \u001b[38;5;241m=\u001b[39m random\u001b[38;5;241m.\u001b[39mchoice(tiles)\n\u001b[1;32m---> 29\u001b[0m         \u001b[43mscreen\u001b[49m\u001b[38;5;241;43m.\u001b[39;49m\u001b[43mblit\u001b[49m\u001b[43m(\u001b[49m\u001b[43mtile_image\u001b[49m\u001b[43m,\u001b[49m\u001b[43m \u001b[49m\u001b[43m(\u001b[49m\u001b[43mx\u001b[49m\u001b[43m,\u001b[49m\u001b[43m \u001b[49m\u001b[43my\u001b[49m\u001b[43m)\u001b[49m\u001b[43m)\u001b[49m\n\u001b[0;32m     31\u001b[0m pygame\u001b[38;5;241m.\u001b[39mdraw\u001b[38;5;241m.\u001b[39mcircle(screen, \u001b[38;5;124m\"\u001b[39m\u001b[38;5;124mred\u001b[39m\u001b[38;5;124m\"\u001b[39m, player_pos, \u001b[38;5;241m40\u001b[39m)\n\u001b[0;32m     33\u001b[0m keys \u001b[38;5;241m=\u001b[39m pygame\u001b[38;5;241m.\u001b[39mkey\u001b[38;5;241m.\u001b[39mget_pressed()\n",
      "\u001b[1;31mTypeError\u001b[0m: argument 1 must be pygame.surface.Surface, not str"
     ]
    },
    {
     "ename": "",
     "evalue": "",
     "output_type": "error",
     "traceback": [
      "\u001b[1;31mThe Kernel crashed while executing code in the current cell or a previous cell. \n",
      "\u001b[1;31mPlease review the code in the cell(s) to identify a possible cause of the failure. \n",
      "\u001b[1;31mClick <a href='https://aka.ms/vscodeJupyterKernelCrash'>here</a> for more info. \n",
      "\u001b[1;31mView Jupyter <a href='command:jupyter.viewOutput'>log</a> for further details."
     ]
    }
   ],
   "source": [
    "pygame.init()\n",
    "screen = pygame.display.set_mode((screen_width, screen_height))\n",
    "clock = pygame.time.Clock()\n",
    "running = True\n",
    "dt = 0\n",
    "player_pos = pygame.Vector2(screen.get_width() // 2, screen.get_height() // 2)\n",
    "\n",
    "\n",
    "\n",
    "\n",
    "\n",
    "\n",
    "while running:\n",
    "    #poll for events\n",
    "    #pygame.QUIT event means the user clicked the X to close out your window\n",
    "\n",
    "    for event in pygame.event.get():\n",
    "        if event.type == pygame.QUIT:\n",
    "            running = False\n",
    "    \n",
    "    #fill the screen with a color to whipe everything from the last frame:\n",
    "    screen.fill(\"black\")\n",
    "\n",
    "    #Render your game here\n",
    "\n",
    "    for x in range(0, screen_width):\n",
    "        for y in range(0, screen_height):\n",
    "            tile_image = random.choice(tiles)\n",
    "            screen.blit(tile_image, (x, y))\n",
    "\n",
    "    pygame.draw.circle(screen, \"red\", player_pos, 40)\n",
    "\n",
    "    keys = pygame.key.get_pressed()\n",
    "    if keys[pygame.K_w]:\n",
    "        player_pos.y -= 300 * dt\n",
    "    if keys[pygame.K_s]:\n",
    "        player_pos.y += 300 * dt\n",
    "    if keys[pygame.K_a]:\n",
    "        player_pos.x -= 300 * dt\n",
    "    if keys[pygame.K_d]:\n",
    "        player_pos.x += 300 * dt\n",
    "\n",
    "    pygame.display.flip()\n",
    "\n",
    "    dt = clock.tick(60) / 1000\n",
    "\n",
    "pygame.quit()\n",
    "sys.exit()"
   ]
  },
  {
   "cell_type": "code",
   "execution_count": null,
   "metadata": {},
   "outputs": [
    {
     "ename": "NameError",
     "evalue": "name 'running' is not defined",
     "output_type": "error",
     "traceback": [
      "\u001b[1;31m---------------------------------------------------------------------------\u001b[0m",
      "\u001b[1;31mNameError\u001b[0m                                 Traceback (most recent call last)",
      "Cell \u001b[1;32mIn[2], line 1\u001b[0m\n\u001b[1;32m----> 1\u001b[0m \u001b[38;5;28;01mwhile\u001b[39;00m \u001b[43mrunning\u001b[49m:\n\u001b[0;32m      2\u001b[0m     \u001b[38;5;66;03m#poll for events\u001b[39;00m\n\u001b[0;32m      3\u001b[0m     \u001b[38;5;66;03m#pygame.QUIT event means the user clicked the X to close out your window\u001b[39;00m\n\u001b[0;32m      5\u001b[0m     \u001b[38;5;28;01mfor\u001b[39;00m event \u001b[38;5;129;01min\u001b[39;00m pygame\u001b[38;5;241m.\u001b[39mevent\u001b[38;5;241m.\u001b[39mget():\n\u001b[0;32m      6\u001b[0m         \u001b[38;5;28;01mif\u001b[39;00m event\u001b[38;5;241m.\u001b[39mtype \u001b[38;5;241m==\u001b[39m pygame\u001b[38;5;241m.\u001b[39mQUIT:\n",
      "\u001b[1;31mNameError\u001b[0m: name 'running' is not defined"
     ]
    }
   ],
   "source": []
  }
 ],
 "metadata": {
  "kernelspec": {
   "display_name": "Python 3",
   "language": "python",
   "name": "python3"
  },
  "language_info": {
   "codemirror_mode": {
    "name": "ipython",
    "version": 3
   },
   "file_extension": ".py",
   "mimetype": "text/x-python",
   "name": "python",
   "nbconvert_exporter": "python",
   "pygments_lexer": "ipython3",
   "version": "3.11.9"
  }
 },
 "nbformat": 4,
 "nbformat_minor": 2
}
